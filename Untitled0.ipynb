{
 "metadata": {
  "name": "",
  "signature": "sha256:1fb62a461f5a63c98eacdbee3ad48e605369b4c02e013a303ea926d623f87eee"
 },
 "nbformat": 3,
 "nbformat_minor": 0,
 "worksheets": [
  {
   "cells": [
    {
     "cell_type": "code",
     "collapsed": false,
     "input": [
      "import pandas as pd\n",
      "import numpy as np\n",
      "import matplotlib.pyplot as plt\n",
      "import matplotlib.cm \n"
     ],
     "language": "python",
     "metadata": {},
     "outputs": [],
     "prompt_number": 6
    },
    {
     "cell_type": "markdown",
     "metadata": {},
     "source": [
      "This code makes the basemap and plots the locations"
     ]
    },
    {
     "cell_type": "code",
     "collapsed": false,
     "input": [
      "map = Basemap(projection='merc', lat_0=55, lon_0=1.5, \n",
      "              resolution='l', area_thresh=100.0,\n",
      "              llcrnrlon=-10.55, llcrnrlat=49.5,\n",
      "                urcrnrlon=3.55, urcrnrlat=59.5)\n",
      "\n",
      "map.drawcoastlines()\n",
      "map.drawcountries()\n",
      "\n",
      "labels= ['Leeds','Edinburgh','London','Bristol','Glasgow','Cardiff','Manchester', 'Oxford','Exeter', 'Birmingham', 'Newcastle']\n",
      "lons = [-1.32, -3.11, 0.0,-2.35, -4.25,-3.18,-2.23,-1.25,-3.53,-1.89,-1.60,]\n",
      "lats = [53.47, 55.57, 51.3, 51.27, 55.85,51.48,53.46,51.48,53.46,51.75,51.71]\n",
      "x,y = map(lons, lats)\n",
      "map.plot(x, y, 'bo', markersize=5)\n",
      "\n",
      "\n",
      "plt.show()\n",
      "\n"
     ],
     "language": "python",
     "metadata": {},
     "outputs": []
    },
    {
     "cell_type": "markdown",
     "metadata": {},
     "source": [
      "make a data fram to join additional data"
     ]
    },
    {
     "cell_type": "code",
     "collapsed": false,
     "input": [
      "lons.df = DataFrame(lons)"
     ],
     "language": "python",
     "metadata": {},
     "outputs": []
    },
    {
     "cell_type": "markdown",
     "metadata": {},
     "source": [
      "Join additional data to location data fram"
     ]
    },
    {
     "cell_type": "code",
     "collapsed": false,
     "input": [
      "import pandas as pd\n",
      "forcast_1 = pd.merge(loc_df, DATA, on='Location', how='Outer')\n",
      "\n"
     ],
     "language": "python",
     "metadata": {},
     "outputs": [
      {
       "ename": "NameError",
       "evalue": "name 'drawmapscale' is not defined",
       "output_type": "pyerr",
       "traceback": [
        "\u001b[1;31m---------------------------------------------------------------------------\u001b[0m\n\u001b[1;31mNameError\u001b[0m                                 Traceback (most recent call last)",
        "\u001b[1;32m<ipython-input-4-0c2e4d8fa13a>\u001b[0m in \u001b[0;36m<module>\u001b[1;34m()\u001b[0m\n\u001b[1;32m----> 1\u001b[1;33m drawmapscale(\n\u001b[0m\u001b[0;32m      2\u001b[0m     \u001b[0mcoords\u001b[0m\u001b[1;33m[\u001b[0m\u001b[1;36m0\u001b[0m\u001b[1;33m]\u001b[0m \u001b[1;33m+\u001b[0m \u001b[1;36m0.08\u001b[0m\u001b[1;33m,\u001b[0m \u001b[0mcoords\u001b[0m\u001b[1;33m[\u001b[0m\u001b[1;36m1\u001b[0m\u001b[1;33m]\u001b[0m \u001b[1;33m+\u001b[0m \u001b[1;36m0.015\u001b[0m\u001b[1;33m,\u001b[0m\u001b[1;33m\u001b[0m\u001b[0m\n\u001b[0;32m      3\u001b[0m     \u001b[0mcoords\u001b[0m\u001b[1;33m[\u001b[0m\u001b[1;36m0\u001b[0m\u001b[1;33m]\u001b[0m\u001b[1;33m,\u001b[0m \u001b[0mcoords\u001b[0m\u001b[1;33m[\u001b[0m\u001b[1;36m1\u001b[0m\u001b[1;33m]\u001b[0m\u001b[1;33m,\u001b[0m\u001b[1;33m\u001b[0m\u001b[0m\n\u001b[0;32m      4\u001b[0m     \u001b[1;36m10.\u001b[0m\u001b[1;33m,\u001b[0m\u001b[1;33m\u001b[0m\u001b[0m\n\u001b[0;32m      5\u001b[0m     \u001b[0mbarstyle\u001b[0m\u001b[1;33m=\u001b[0m\u001b[1;34m'fancy'\u001b[0m\u001b[1;33m,\u001b[0m \u001b[0mlabelstyle\u001b[0m\u001b[1;33m=\u001b[0m\u001b[1;34m'simple'\u001b[0m\u001b[1;33m,\u001b[0m\u001b[1;33m\u001b[0m\u001b[0m\n",
        "\u001b[1;31mNameError\u001b[0m: name 'drawmapscale' is not defined"
       ]
      }
     ],
     "prompt_number": 4
    },
    {
     "cell_type": "code",
     "collapsed": false,
     "input": [],
     "language": "python",
     "metadata": {},
     "outputs": []
    }
   ],
   "metadata": {}
  }
 ]
}