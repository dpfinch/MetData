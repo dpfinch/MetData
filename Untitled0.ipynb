{
 "metadata": {
  "name": "",
  "signature": "sha256:eb451fdb6caed446238e34f599bd8264d6e8ce46ac5cc25c60c67a62156e09cb"
 },
 "nbformat": 3,
 "nbformat_minor": 0,
 "worksheets": [
  {
   "cells": [
    {
     "cell_type": "code",
     "collapsed": false,
     "input": [
      "import pandas as pd\n",
      "import numpy as np\n",
      "import matplotlib.pyplot as plt\n",
      "import matplotlib.cm \n",
      "import glob\n",
      "import weather_symbol\n",
      "from mpl_toolkits.basemap import Basemap"
     ],
     "language": "python",
     "metadata": {},
     "outputs": [],
     "prompt_number": 9
    },
    {
     "cell_type": "code",
     "collapsed": false,
     "input": [
      "all_files = glob.glob('data_files/*.csv')"
     ],
     "language": "python",
     "metadata": {},
     "outputs": [],
     "prompt_number": 10
    },
    {
     "cell_type": "markdown",
     "metadata": {},
     "source": [
      "This code makes the basemap and plots the locations"
     ]
    },
    {
     "cell_type": "code",
     "collapsed": false,
     "input": [
      "plt.figure(figsize=[10,8])\n",
      "\n",
      "map = Basemap(projection='merc', lat_0=55, lon_0=1.5, \n",
      "              resolution='l', area_thresh=100.0,\n",
      "              llcrnrlon=-10.55, llcrnrlat=49.5,\n",
      "                urcrnrlon=3.55, urcrnrlat=59.5)\n",
      "\n",
      "map.drawcoastlines()\n",
      "map.drawcountries()\n",
      "map.bluemarble()\n",
      "\n"
     ],
     "language": "python",
     "metadata": {},
     "outputs": [
      {
       "metadata": {},
       "output_type": "pyout",
       "prompt_number": 22,
       "text": [
        "<matplotlib.image.AxesImage at 0x110cb8910>"
       ]
      }
     ],
     "prompt_number": 22
    },
    {
     "cell_type": "code",
     "collapsed": false,
     "input": [
      "for xx in range(len(all_files)):\n",
      "    fname = all_files[xx]\n",
      "    array = np.loadtxt(fname, dtype=str, delimiter=',')\n",
      "     \n",
      "    time = int(array[8,5])\n",
      "    \n",
      "    color, sym = weather_symbol.w_s(time)\n",
      "    \n",
      "    labels= ['Leeds','Edinburgh','London','Bristol','Glasgow','Cardiff','Manchester', 'Oxford','Exeter', 'Birmingham', 'Newcastle']\n",
      "    lons = [-1.32, -3.11, 0.0,-2.35, -4.25,-3.18,-2.23,-1.25,-3.53,-1.89,-1.60,]\n",
      "    lats = [53.47, 55.57, 51.3, 51.27, 55.85,51.48,53.46,51.48,53.46,51.75,51.71]\n",
      "    x,y = map(lons[xx], lats[xx])\n",
      "    map.plot(x, y, color=color,marker=sym, markersize=8)\n",
      "\n",
      "\n",
      "plt.show()\n",
      "\n"
     ],
     "language": "python",
     "metadata": {},
     "outputs": [],
     "prompt_number": 23
    },
    {
     "cell_type": "markdown",
     "metadata": {},
     "source": [
      "make a data fram to join additional data"
     ]
    },
    {
     "cell_type": "code",
     "collapsed": false,
     "input": [
      "lons.df = DataFrame(lons)"
     ],
     "language": "python",
     "metadata": {},
     "outputs": []
    },
    {
     "cell_type": "markdown",
     "metadata": {},
     "source": [
      "Join additional data to location data fram"
     ]
    },
    {
     "cell_type": "code",
     "collapsed": false,
     "input": [
      "import pandas as pd\n",
      "forcast_1 = pd.merge(loc_df, DATA, on='Location', how='Outer')\n",
      "\n"
     ],
     "language": "python",
     "metadata": {},
     "outputs": [
      {
       "ename": "NameError",
       "evalue": "name 'drawmapscale' is not defined",
       "output_type": "pyerr",
       "traceback": [
        "\u001b[1;31m---------------------------------------------------------------------------\u001b[0m\n\u001b[1;31mNameError\u001b[0m                                 Traceback (most recent call last)",
        "\u001b[1;32m<ipython-input-4-0c2e4d8fa13a>\u001b[0m in \u001b[0;36m<module>\u001b[1;34m()\u001b[0m\n\u001b[1;32m----> 1\u001b[1;33m drawmapscale(\n\u001b[0m\u001b[0;32m      2\u001b[0m     \u001b[0mcoords\u001b[0m\u001b[1;33m[\u001b[0m\u001b[1;36m0\u001b[0m\u001b[1;33m]\u001b[0m \u001b[1;33m+\u001b[0m \u001b[1;36m0.08\u001b[0m\u001b[1;33m,\u001b[0m \u001b[0mcoords\u001b[0m\u001b[1;33m[\u001b[0m\u001b[1;36m1\u001b[0m\u001b[1;33m]\u001b[0m \u001b[1;33m+\u001b[0m \u001b[1;36m0.015\u001b[0m\u001b[1;33m,\u001b[0m\u001b[1;33m\u001b[0m\u001b[0m\n\u001b[0;32m      3\u001b[0m     \u001b[0mcoords\u001b[0m\u001b[1;33m[\u001b[0m\u001b[1;36m0\u001b[0m\u001b[1;33m]\u001b[0m\u001b[1;33m,\u001b[0m \u001b[0mcoords\u001b[0m\u001b[1;33m[\u001b[0m\u001b[1;36m1\u001b[0m\u001b[1;33m]\u001b[0m\u001b[1;33m,\u001b[0m\u001b[1;33m\u001b[0m\u001b[0m\n\u001b[0;32m      4\u001b[0m     \u001b[1;36m10.\u001b[0m\u001b[1;33m,\u001b[0m\u001b[1;33m\u001b[0m\u001b[0m\n\u001b[0;32m      5\u001b[0m     \u001b[0mbarstyle\u001b[0m\u001b[1;33m=\u001b[0m\u001b[1;34m'fancy'\u001b[0m\u001b[1;33m,\u001b[0m \u001b[0mlabelstyle\u001b[0m\u001b[1;33m=\u001b[0m\u001b[1;34m'simple'\u001b[0m\u001b[1;33m,\u001b[0m\u001b[1;33m\u001b[0m\u001b[0m\n",
        "\u001b[1;31mNameError\u001b[0m: name 'drawmapscale' is not defined"
       ]
      }
     ],
     "prompt_number": 4
    },
    {
     "cell_type": "code",
     "collapsed": false,
     "input": [],
     "language": "python",
     "metadata": {},
     "outputs": []
    },
    {
     "cell_type": "code",
     "collapsed": false,
     "input": [
      "\n",
      "    "
     ],
     "language": "python",
     "metadata": {},
     "outputs": []
    }
   ],
   "metadata": {}
  }
 ]
}