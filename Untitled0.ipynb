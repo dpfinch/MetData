{
 "metadata": {
  "name": "",
  "signature": "sha256:62ea14873f13b9ee3ab0ac0c91c878d08a90971bd43970c1a43028b5b8763d54"
 },
 "nbformat": 3,
 "nbformat_minor": 0,
 "worksheets": [
  {
   "cells": [
    {
     "cell_type": "code",
     "collapsed": false,
     "input": [
      "import pandas as pd\n",
      "import numpy as np\n",
      "import matplotlib.pyplot as plt\n",
      "import matplotlib.cm \n",
      "import glob\n",
      "import weather_symbol\n",
      "from mpl_toolkits.basemap import Basemap"
     ],
     "language": "python",
     "metadata": {},
     "outputs": [],
     "prompt_number": 2
    },
    {
     "cell_type": "code",
     "collapsed": false,
     "input": [
      "all_files = glob.glob('data_files/*.csv')\n",
      "\n",
      "location_list =[]\n",
      "lat_list = []\n",
      "lon_list = []\n",
      "for line in open('location_data.txt'):\n",
      "    col = line.split()\n",
      "\n",
      "    location_list.append(col[0])\n",
      "    lat_list.append(float(col[1]))\n",
      "    lon_list.append(float(col[2]))\n",
      "    \n",
      "print lon_list"
     ],
     "language": "python",
     "metadata": {},
     "outputs": [
      {
       "output_type": "stream",
       "stream": "stdout",
       "text": [
        "[-1.54, -3.19, 0.0, -2.58, -4.25, -3.18, -2.23, -1.25, -3.53, -1.89, -1.6]\n"
       ]
      }
     ],
     "prompt_number": 44
    },
    {
     "cell_type": "markdown",
     "metadata": {},
     "source": [
      "This code makes the basemap and plots the locations"
     ]
    },
    {
     "cell_type": "code",
     "collapsed": false,
     "input": [
      "plt.figure(figsize=[12,12])\n",
      "\n",
      "map = Basemap(projection='merc', lat_0=55, lon_0=1.5, \n",
      "              resolution='l', area_thresh=100.0,\n",
      "              llcrnrlon=-10.55, llcrnrlat=49.5,\n",
      "                urcrnrlon=3.55, urcrnrlat=59.5)\n",
      "\n",
      "map.drawcoastlines()\n",
      "map.drawcountries()\n",
      "map.bluemarble()\n",
      "\n"
     ],
     "language": "python",
     "metadata": {},
     "outputs": [
      {
       "metadata": {},
       "output_type": "pyout",
       "prompt_number": 56,
       "text": [
        "<matplotlib.image.AxesImage at 0x11c982f50>"
       ]
      }
     ],
     "prompt_number": 56
    },
    {
     "cell_type": "code",
     "collapsed": false,
     "input": [
      "weather_list = ['']\n",
      "for xx in range(len(all_files)):\n",
      "    fname = all_files[xx]\n",
      "    array = np.loadtxt(fname, dtype=str, delimiter=',')\n",
      "     \n",
      "    time = int(array[8,5])\n",
      "    \n",
      "    color, sym , weather= weather_symbol.w_s(time)\n",
      "\n",
      "    x,y = map(lon_list[xx], lat_list[xx])\n",
      "    \n",
      "    map.plot(x,y,color=color,marker=sym,markersize=13, label=weather)\n",
      "    plt.text(x+20000,y+20000,location_list[xx], color='white')\n",
      "    \n",
      "plt.legend()\n",
      "til = 'Met Office Forecast for time step '\n",
      "time_step = int(array[10,5])/ 60\n",
      "plt.title(til+str(time_step)+':00')\n",
      "\n",
      "\n",
      "plt.show()\n",
      "\n"
     ],
     "language": "python",
     "metadata": {},
     "outputs": []
    },
    {
     "cell_type": "raw",
     "metadata": {},
     "source": [
      "make a data fram to join additional data"
     ]
    },
    {
     "cell_type": "code",
     "collapsed": false,
     "input": [],
     "language": "python",
     "metadata": {},
     "outputs": []
    },
    {
     "cell_type": "code",
     "collapsed": false,
     "input": [],
     "language": "python",
     "metadata": {},
     "outputs": []
    },
    {
     "cell_type": "code",
     "collapsed": false,
     "input": [],
     "language": "python",
     "metadata": {},
     "outputs": []
    },
    {
     "cell_type": "code",
     "collapsed": false,
     "input": [],
     "language": "python",
     "metadata": {},
     "outputs": []
    },
    {
     "cell_type": "code",
     "collapsed": false,
     "input": [
      "lons.df = DataFrame(lons)"
     ],
     "language": "python",
     "metadata": {},
     "outputs": []
    },
    {
     "cell_type": "markdown",
     "metadata": {},
     "source": [
      "Join additional data to location data fram"
     ]
    },
    {
     "cell_type": "code",
     "collapsed": false,
     "input": [
      "import pandas as pd\n",
      "forcast_1 = pd.merge(loc_df, DATA, on='Location', how='Outer')\n",
      "\n"
     ],
     "language": "python",
     "metadata": {},
     "outputs": [
      {
       "ename": "NameError",
       "evalue": "name 'drawmapscale' is not defined",
       "output_type": "pyerr",
       "traceback": [
        "\u001b[1;31m---------------------------------------------------------------------------\u001b[0m\n\u001b[1;31mNameError\u001b[0m                                 Traceback (most recent call last)",
        "\u001b[1;32m<ipython-input-4-0c2e4d8fa13a>\u001b[0m in \u001b[0;36m<module>\u001b[1;34m()\u001b[0m\n\u001b[1;32m----> 1\u001b[1;33m drawmapscale(\n\u001b[0m\u001b[0;32m      2\u001b[0m     \u001b[0mcoords\u001b[0m\u001b[1;33m[\u001b[0m\u001b[1;36m0\u001b[0m\u001b[1;33m]\u001b[0m \u001b[1;33m+\u001b[0m \u001b[1;36m0.08\u001b[0m\u001b[1;33m,\u001b[0m \u001b[0mcoords\u001b[0m\u001b[1;33m[\u001b[0m\u001b[1;36m1\u001b[0m\u001b[1;33m]\u001b[0m \u001b[1;33m+\u001b[0m \u001b[1;36m0.015\u001b[0m\u001b[1;33m,\u001b[0m\u001b[1;33m\u001b[0m\u001b[0m\n\u001b[0;32m      3\u001b[0m     \u001b[0mcoords\u001b[0m\u001b[1;33m[\u001b[0m\u001b[1;36m0\u001b[0m\u001b[1;33m]\u001b[0m\u001b[1;33m,\u001b[0m \u001b[0mcoords\u001b[0m\u001b[1;33m[\u001b[0m\u001b[1;36m1\u001b[0m\u001b[1;33m]\u001b[0m\u001b[1;33m,\u001b[0m\u001b[1;33m\u001b[0m\u001b[0m\n\u001b[0;32m      4\u001b[0m     \u001b[1;36m10.\u001b[0m\u001b[1;33m,\u001b[0m\u001b[1;33m\u001b[0m\u001b[0m\n\u001b[0;32m      5\u001b[0m     \u001b[0mbarstyle\u001b[0m\u001b[1;33m=\u001b[0m\u001b[1;34m'fancy'\u001b[0m\u001b[1;33m,\u001b[0m \u001b[0mlabelstyle\u001b[0m\u001b[1;33m=\u001b[0m\u001b[1;34m'simple'\u001b[0m\u001b[1;33m,\u001b[0m\u001b[1;33m\u001b[0m\u001b[0m\n",
        "\u001b[1;31mNameError\u001b[0m: name 'drawmapscale' is not defined"
       ]
      }
     ],
     "prompt_number": 4
    },
    {
     "cell_type": "code",
     "collapsed": false,
     "input": [],
     "language": "python",
     "metadata": {},
     "outputs": []
    },
    {
     "cell_type": "code",
     "collapsed": false,
     "input": [
      "\n",
      "    "
     ],
     "language": "python",
     "metadata": {},
     "outputs": []
    }
   ],
   "metadata": {}
  }
 ]
}